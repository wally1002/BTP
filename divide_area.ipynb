{
 "cells": [
  {
   "cell_type": "code",
   "execution_count": 1,
   "metadata": {},
   "outputs": [
    {
     "data": {
      "image/png": "[encoded data removed]",
      "text/plain": [
       "<Figure size 432x288 with 1 Axes>"
      ]
     },
     "metadata": {
      "needs_background": "light"
     },
     "output_type": "display_data"
    }
   ],
   "source": [
    "import numpy as np\n",
    "import matplotlib.pyplot as plt\n",
    "\n",
    "%matplotlib inline\n",
    "\n",
    "class Rectangle:\n",
    "\n",
    "    def __init__(self, x, y):\n",
    "        self.x = x\n",
    "        self.y = y\n",
    "        self.length = np.sqrt(np.square(x[0] - x[1]) + np.square(y[0] - y[1]))\n",
    "        self.width = np.sqrt(np.square(x[0] - x[3]) + np.square(y[0] - y[3]))\n",
    "\n",
    "    def plot(self):\n",
    "        plt.plot(self.x, self.y, 'ro')\n",
    "        plt.show()\n",
    "\n",
    "def divide(n, p):\n",
    "    # divide an area into n rectangles given two corners\n",
    "    \"\"\"\n",
    "    p - corners of rectangle \n",
    "    n - no of agents\n",
    "    \"\"\"\n",
    "    # calculate factors of a number\n",
    "    factors = []\n",
    "    min_diff = 10000000\n",
    "    for i in range(1, n//2+1):\n",
    "        if n % i == 0:\n",
    "            factors.append([i, n//i])\n",
    "            if abs(i - n//i) < min_diff:\n",
    "                min_diff = abs(i - n//i)\n",
    "                min_factors = [i, n//i]\n",
    "                \n",
    "    l = np.sqrt(np.square(p[0][0] - p[1][0]) + np.square(p[0][1] - p[1][1]))\n",
    "    b = np.sqrt(np.square(p[0][0] - p[3][0]) + np.square(p[0][1] - p[3][1]))\n",
    "    val = 0\n",
    "    if(l > b):\n",
    "        val = 0\n",
    "    else:\n",
    "        val = 1\n",
    "    x1 = np.linspace(p[0][0], p[1][0], min_factors[val])\n",
    "    y1 = np.linspace(p[0][1], p[1][1], min_factors[val])\n",
    "    l1 = [[a,y1[ind]] for ind, a in enumerate(x1)]\n",
    "    x2 = np.linspace(p[1][0], p[2][0], min_factors[val^1])\n",
    "    y2 = np.linspace(p[1][1], p[2][1], min_factors[val^1])\n",
    "    l2 = [[x2[ind],a] for ind, a in enumerate(y2)]\n",
    "    x3 = np.linspace(p[2][0], p[3][0], min_factors[0])\n",
    "    y3 = np.linspace(p[2][1], p[3][1], min_factors[0])\n",
    "    l3 = [[a,y3[ind]] for ind, a in enumerate(x3)]\n",
    "    x4 = np.linspace(p[3][0], p[0][0], min_factors[val^1])\n",
    "    y4 = np.linspace(p[3][1], p[0][1], min_factors[val^1])\n",
    "    l4 = [[x4[ind],a] for ind, a in enumerate(y4)]\n",
    "    return l1, l2, l3, l4\n",
    "\n",
    "if __name__ == '__main__':\n",
    "    a = Rectangle([0, 1, 1, 0], [0, 0, 1, 1])\n",
    "    a.plot()\n"
   ]
  },
  {
   "cell_type": "code",
   "execution_count": null,
   "metadata": {},
   "outputs": [],
   "source": []
  }
 ],
 "metadata": {
  "interpreter": {
   "hash": "3c6d3120f4d528d8463b2a2a331a88b6ad42a8eb5d4cb1360221083d40f49785"
  },
  "kernelspec": {
   "display_name": "Python 3.8.5 64-bit ('base': conda)",
   "name": "python3"
  },
  "language_info": {
   "codemirror_mode": {
    "name": "ipython",
    "version": 3
   },
   "file_extension": ".py",
   "mimetype": "text/x-python",
   "name": "python",
   "nbconvert_exporter": "python",
   "pygments_lexer": "ipython3",
   "version": "3.8.5"
  },
  "orig_nbformat": 4
 },
 "nbformat": 4,
 "nbformat_minor": 2
}
